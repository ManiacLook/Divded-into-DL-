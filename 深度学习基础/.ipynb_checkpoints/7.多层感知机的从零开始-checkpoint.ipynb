{
 "cells": [
  {
   "cell_type": "code",
   "execution_count": 1,
   "id": "79fe0580",
   "metadata": {},
   "outputs": [],
   "source": [
    "import torch\n",
    "import numpy as np\n",
    "import sys\n",
    "sys.path.append(\"..\")\n",
    "import d2lzh_pytorch as d2l"
   ]
  },
  {
   "cell_type": "markdown",
   "id": "78af2d6c",
   "metadata": {},
   "source": [
    "# 获取和读取数据\n",
    "这里继续使用Fashion-MNIST数据集。我们将使用多层感知机对图像进行分类。"
   ]
  },
  {
   "cell_type": "code",
   "execution_count": 2,
   "id": "bb49d3a6",
   "metadata": {},
   "outputs": [],
   "source": [
    "batch_size = 256\n",
    "train_iter, test_iter = d2l.load_data_fashion_mnist(batch_size)"
   ]
  },
  {
   "cell_type": "markdown",
   "id": "8e99c51b",
   "metadata": {},
   "source": [
    "# 定义模型参数\n",
    "我们在`softmax`回归的从零开始实现里已经介绍了，Fashion-MNIST数据集中图像形状为 `28×28`，类别数为10。本节中我们依然使用长度为 `28×28=784` 的向量表示每一张图像。因此，输入个数为784，输出个数为10。实验中，我们设超参数隐藏单元个数为256。"
   ]
  },
  {
   "cell_type": "code",
   "execution_count": 3,
   "id": "7aeaa7fb",
   "metadata": {},
   "outputs": [],
   "source": [
    "num_inputs, num_outputs, num_hiddens = 784, 10, 256\n",
    "\n",
    "W1 = torch.tensor(np.random.normal(0, 0.01, (num_inputs, num_hiddens)), dtype=torch.float)\n",
    "b1 = torch.zeros(num_hiddens, dtype=torch.float)\n",
    "W2 = torch.tensor(np.random.normal(0, 0.01, (num_hiddens, num_outputs)), dtype=torch.float)\n",
    "b2 = torch.zeros(num_outputs, dtype=torch.float)\n",
    "\n",
    "params = [W1, b1, W2, b2]\n",
    "for param in params:\n",
    "    param.requires_grad_(requires_grad=True)"
   ]
  },
  {
   "cell_type": "markdown",
   "id": "26d45c7b",
   "metadata": {},
   "source": [
    "# 定义激活函数\n",
    "这里我们使用基础的`max`函数来实现ReLU，而非直接调用`relu`函数。"
   ]
  },
  {
   "cell_type": "code",
   "execution_count": 4,
   "id": "6f6f47f7",
   "metadata": {},
   "outputs": [],
   "source": [
    "def relu(X):\n",
    "    return torch.max(input=X, other=torch.tensor(0.0))"
   ]
  },
  {
   "cell_type": "markdown",
   "id": "ca867db0",
   "metadata": {},
   "source": []
  },
  {
   "cell_type": "markdown",
   "id": "5f73262c",
   "metadata": {},
   "source": [
    "# 定义模型\n",
    "同softmax回归一样，我们通过`view`函数将每张原始图像改成长度为`num_inputs`的向量。然后我们实现上一节中多层感知机的计算表达式。"
   ]
  },
  {
   "cell_type": "code",
   "execution_count": 5,
   "id": "5b7c6cdb",
   "metadata": {},
   "outputs": [],
   "source": [
    "def net(X):\n",
    "    X = X.view((-1, num_inputs))\n",
    "    H = relu(torch.matmul(X, W1) + b1)\n",
    "    return torch.matmul(H, W2) + b2"
   ]
  },
  {
   "cell_type": "markdown",
   "id": "389b57a0",
   "metadata": {},
   "source": [
    "# 定义损失函数\n",
    "为了得到更好的数值稳定性，我们直接使用PyTorch提供的包括softmax运算和交叉熵损失计算的函数。"
   ]
  },
  {
   "cell_type": "code",
   "execution_count": 6,
   "id": "c8f538b4",
   "metadata": {},
   "outputs": [],
   "source": [
    "loss = torch.nn.CrossEntropyLoss()"
   ]
  },
  {
   "cell_type": "markdown",
   "id": "907e5828",
   "metadata": {},
   "source": [
    "# 训练模型\n",
    "训练多层感知机的步骤和3.6节中训练softmax回归的步骤没什么区别。我们直接调用`d2lzh_pytorch`包中的`train_ch3`函数，它的实现已经在3.6节里介绍过。我们在这里设超参数迭代周期数为5，学习率为100.0。"
   ]
  },
  {
   "cell_type": "code",
   "execution_count": 7,
   "id": "461afcff",
   "metadata": {
    "scrolled": true
   },
   "outputs": [
    {
     "name": "stdout",
     "output_type": "stream",
     "text": [
      "epoch 1, loss 0.0031, train acc 0.713, test acc 0.786\n",
      "epoch 2, loss 0.0019, train acc 0.823, test acc 0.822\n",
      "epoch 3, loss 0.0016, train acc 0.845, test acc 0.828\n",
      "epoch 4, loss 0.0016, train acc 0.854, test acc 0.845\n",
      "epoch 5, loss 0.0014, train acc 0.864, test acc 0.843\n",
      "epoch 6, loss 0.0014, train acc 0.870, test acc 0.842\n"
     ]
    }
   ],
   "source": [
    "num_epoches, lr = 6, 100.0\n",
    "d2l.train_ch3(net, train_iter, test_iter, loss, num_epoches, batch_size, params, lr)"
   ]
  },
  {
   "cell_type": "markdown",
   "id": "8ece5dc8",
   "metadata": {},
   "source": [
    "# 小结\n",
    "+ 可以通过手动定义模型及其参数来实现简单的多层感知机。\n",
    "+ 当多层感知机的层数较多时，本节的实现方法会显得较烦琐，例如在定义模型参数的时候。"
   ]
  }
 ],
 "metadata": {
  "kernelspec": {
   "display_name": "pytorch",
   "language": "python",
   "name": "pytorch"
  },
  "language_info": {
   "codemirror_mode": {
    "name": "ipython",
    "version": 3
   },
   "file_extension": ".py",
   "mimetype": "text/x-python",
   "name": "python",
   "nbconvert_exporter": "python",
   "pygments_lexer": "ipython3",
   "version": "3.7.11"
  }
 },
 "nbformat": 4,
 "nbformat_minor": 5
}
