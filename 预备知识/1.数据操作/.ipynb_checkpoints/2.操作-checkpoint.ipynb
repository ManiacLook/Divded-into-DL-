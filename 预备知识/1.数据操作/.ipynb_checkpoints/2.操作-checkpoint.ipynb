{
 "cells": [
  {
   "cell_type": "code",
   "execution_count": 1,
   "id": "250ddd3a",
   "metadata": {},
   "outputs": [],
   "source": [
    "import torch"
   ]
  },
  {
   "cell_type": "markdown",
   "id": "bf1bbafd",
   "metadata": {},
   "source": [
    "加法形式一"
   ]
  },
  {
   "cell_type": "code",
   "execution_count": 3,
   "id": "02159115",
   "metadata": {
    "scrolled": true
   },
   "outputs": [
    {
     "name": "stdout",
     "output_type": "stream",
     "text": [
      "tensor([[0.5097, 1.2426, 1.1891],\n",
      "        [0.6853, 0.7549, 1.4036],\n",
      "        [1.3488, 0.9590, 0.9132],\n",
      "        [0.8993, 1.1820, 0.3619],\n",
      "        [0.9159, 0.5550, 0.2975]])\n"
     ]
    }
   ],
   "source": [
    "x = torch.rand(5, 3)\n",
    "y = torch.rand(5, 3)\n",
    "print(x + y)"
   ]
  },
  {
   "cell_type": "code",
   "execution_count": null,
   "id": "868a81a4",
   "metadata": {},
   "outputs": [],
   "source": [
    "加法形式二"
   ]
  },
  {
   "cell_type": "code",
   "execution_count": 4,
   "id": "c374d9fd",
   "metadata": {
    "scrolled": false
   },
   "outputs": [
    {
     "name": "stdout",
     "output_type": "stream",
     "text": [
      "tensor([[0.5097, 1.2426, 1.1891],\n",
      "        [0.6853, 0.7549, 1.4036],\n",
      "        [1.3488, 0.9590, 0.9132],\n",
      "        [0.8993, 1.1820, 0.3619],\n",
      "        [0.9159, 0.5550, 0.2975]])\n"
     ]
    }
   ],
   "source": [
    "print(torch.add(x, y))"
   ]
  },
  {
   "cell_type": "code",
   "execution_count": 5,
   "id": "9aca4bcc",
   "metadata": {},
   "outputs": [
    {
     "name": "stdout",
     "output_type": "stream",
     "text": [
      "tensor([[0.5097, 1.2426, 1.1891],\n",
      "        [0.6853, 0.7549, 1.4036],\n",
      "        [1.3488, 0.9590, 0.9132],\n",
      "        [0.8993, 1.1820, 0.3619],\n",
      "        [0.9159, 0.5550, 0.2975]])\n"
     ]
    }
   ],
   "source": [
    "result = torch.empty(5, 3)\n",
    "# 指定输出\n",
    "torch.add(x, y, out=result)\n",
    "print(result)"
   ]
  },
  {
   "cell_type": "markdown",
   "id": "404f3d6c",
   "metadata": {},
   "source": [
    "加法形式三"
   ]
  },
  {
   "cell_type": "code",
   "execution_count": 6,
   "id": "7805dc5e",
   "metadata": {
    "scrolled": true
   },
   "outputs": [
    {
     "name": "stdout",
     "output_type": "stream",
     "text": [
      "tensor([[0.5097, 1.2426, 1.1891],\n",
      "        [0.6853, 0.7549, 1.4036],\n",
      "        [1.3488, 0.9590, 0.9132],\n",
      "        [0.8993, 1.1820, 0.3619],\n",
      "        [0.9159, 0.5550, 0.2975]])\n"
     ]
    }
   ],
   "source": [
    "y.add_(x)\n",
    "print(y)"
   ]
  },
  {
   "cell_type": "markdown",
   "id": "854a4488",
   "metadata": {},
   "source": [
    "`索引`\n",
    "我们还可以使用类似NumPy的索引操作来访问`Tensor`的一部分，需要注意的是：**索引出来的结果与原数据共享内存，也即修改一个，另一个会跟着修改**。"
   ]
  },
  {
   "cell_type": "code",
   "execution_count": 7,
   "id": "6778f96e",
   "metadata": {},
   "outputs": [
    {
     "name": "stdout",
     "output_type": "stream",
     "text": [
      "tensor([1.2881, 1.7919, 1.5944])\n",
      "tensor([1.2881, 1.7919, 1.5944])\n"
     ]
    }
   ],
   "source": [
    "y = x[0, :]\n",
    "y += 1\n",
    "print(y)\n",
    "print(x[0, :])"
   ]
  },
  {
   "cell_type": "markdown",
   "id": "79688c6e",
   "metadata": {},
   "source": [
    "改变形状\n",
    "用``view()``来改变`Tensor`的形状："
   ]
  },
  {
   "cell_type": "code",
   "execution_count": 8,
   "id": "60141bb4",
   "metadata": {},
   "outputs": [
    {
     "name": "stdout",
     "output_type": "stream",
     "text": [
      "torch.Size([5, 3]) torch.Size([15]) torch.Size([3, 5])\n"
     ]
    }
   ],
   "source": [
    "y = x.view(15)\n",
    "z = x.view(-1, 5)\n",
    "print(x.size(), y.size(), z.size())"
   ]
  },
  {
   "cell_type": "code",
   "execution_count": 9,
   "id": "5a7c3a6d",
   "metadata": {},
   "outputs": [
    {
     "name": "stdout",
     "output_type": "stream",
     "text": [
      "tensor([[1.2881, 1.7919, 1.5944],\n",
      "        [0.1875, 0.6006, 0.4966],\n",
      "        [0.4506, 0.3987, 0.3421],\n",
      "        [0.2920, 0.7291, 0.1689],\n",
      "        [0.7703, 0.0103, 0.0192]])\n",
      "tensor([1.2881, 1.7919, 1.5944, 0.1875, 0.6006, 0.4966, 0.4506, 0.3987, 0.3421,\n",
      "        0.2920, 0.7291, 0.1689, 0.7703, 0.0103, 0.0192])\n",
      "tensor([[1.2881, 1.7919, 1.5944, 0.1875, 0.6006],\n",
      "        [0.4966, 0.4506, 0.3987, 0.3421, 0.2920],\n",
      "        [0.7291, 0.1689, 0.7703, 0.0103, 0.0192]])\n"
     ]
    }
   ],
   "source": [
    "print(x)\n",
    "print(y)\n",
    "print(z)"
   ]
  },
  {
   "cell_type": "markdown",
   "id": "01fb6386",
   "metadata": {},
   "source": [
    "**注意view()返回的新Tensor与源Tensor虽然可能有不同的size，但是是共享data的，也即更改其中的一个，另外一个也会跟着改变。(顾名思义，view仅仅是改变了对这个张量的观察角度，内部数据并未改变)**"
   ]
  },
  {
   "cell_type": "code",
   "execution_count": 10,
   "id": "fc59c2c6",
   "metadata": {
    "scrolled": true
   },
   "outputs": [
    {
     "name": "stdout",
     "output_type": "stream",
     "text": [
      "tensor([[2.2881, 2.7919, 2.5944],\n",
      "        [1.1875, 1.6006, 1.4966],\n",
      "        [1.4506, 1.3987, 1.3421],\n",
      "        [1.2920, 1.7291, 1.1689],\n",
      "        [1.7703, 1.0103, 1.0192]])\n",
      "tensor([2.2881, 2.7919, 2.5944, 1.1875, 1.6006, 1.4966, 1.4506, 1.3987, 1.3421,\n",
      "        1.2920, 1.7291, 1.1689, 1.7703, 1.0103, 1.0192])\n"
     ]
    }
   ],
   "source": [
    "x += 1\n",
    "print(x)\n",
    "print(y) # y也加了1"
   ]
  },
  {
   "cell_type": "markdown",
   "id": "e06fb868",
   "metadata": {},
   "source": [
    "所以如果我们想返回一个真正新的副本（即不共享data内存）该怎么办呢？Pytorch还提供了一个`reshape()`可以改变形状，但是此函数并不能保证返回的是其拷贝，所以不推荐使用。推荐先用`clone`创造一个副本然后再使用`view()`。"
   ]
  },
  {
   "cell_type": "code",
   "execution_count": 11,
   "id": "ef3e113e",
   "metadata": {},
   "outputs": [
    {
     "name": "stdout",
     "output_type": "stream",
     "text": [
      "tensor([[1.2881, 1.7919, 1.5944],\n",
      "        [0.1875, 0.6006, 0.4966],\n",
      "        [0.4506, 0.3987, 0.3421],\n",
      "        [0.2920, 0.7291, 0.1689],\n",
      "        [0.7703, 0.0103, 0.0192]])\n",
      "tensor([2.2881, 2.7919, 2.5944, 1.1875, 1.6006, 1.4966, 1.4506, 1.3987, 1.3421,\n",
      "        1.2920, 1.7291, 1.1689, 1.7703, 1.0103, 1.0192])\n"
     ]
    }
   ],
   "source": [
    "x_cp = x.clone().view(15)\n",
    "x -= 1\n",
    "print(x)\n",
    "print(x_cp)"
   ]
  },
  {
   "cell_type": "markdown",
   "id": "e8fd9904",
   "metadata": {},
   "source": [
    "使用`clone`还有一个好处是会被记录在计算图中，即梯度回传到副本时也会传到源`Tensor`。"
   ]
  },
  {
   "cell_type": "markdown",
   "id": "3a4057e0",
   "metadata": {},
   "source": [
    "另外一个常用的函数就是`item()`, 它可以将一个标量`Tensor`转换成一个Python number："
   ]
  },
  {
   "cell_type": "code",
   "execution_count": 12,
   "id": "3b578340",
   "metadata": {},
   "outputs": [
    {
     "name": "stdout",
     "output_type": "stream",
     "text": [
      "tensor([-1.3821])\n",
      "-1.3820693492889404\n"
     ]
    }
   ],
   "source": [
    "x = torch.randn(1)\n",
    "print(x)\n",
    "print(x.item())"
   ]
  },
  {
   "cell_type": "markdown",
   "id": "4e8519d3",
   "metadata": {},
   "source": [
    "PyTorch中的`Tensor`支持超过一百种操作，包括转置、索引、切片、数学运算、线性代数、随机数等等，可参考[官方文档](https://pytorch.org/docs/stable/tensors.html)。"
   ]
  }
 ],
 "metadata": {
  "kernelspec": {
   "display_name": "pytorch",
   "language": "python",
   "name": "pytorch"
  },
  "language_info": {
   "codemirror_mode": {
    "name": "ipython",
    "version": 3
   },
   "file_extension": ".py",
   "mimetype": "text/x-python",
   "name": "python",
   "nbconvert_exporter": "python",
   "pygments_lexer": "ipython3",
   "version": "3.7.11"
  }
 },
 "nbformat": 4,
 "nbformat_minor": 5
}
